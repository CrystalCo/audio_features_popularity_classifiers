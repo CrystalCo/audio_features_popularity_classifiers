{
 "cells": [
  {
   "cell_type": "markdown",
   "metadata": {},
   "source": [
    "Define PCA transform to keep PC's accounting for 95% of data variance"
   ]
  },
  {
   "cell_type": "code",
   "execution_count": 1,
   "metadata": {},
   "outputs": [],
   "source": [
    "def PCATransform(data):\n",
    "    pca = PCA()\n",
    "    pca.fit(data)\n",
    "\n",
    "    toKeep = 0\n",
    "    totalVar = 0\n",
    "    for var in pca.explained_variance_ratio_:\n",
    "        if totalVar < .95:\n",
    "            totalVar += var\n",
    "            toKeep += 1\n",
    "        else:\n",
    "            break\n",
    "\n",
    "    print(\"Top {} components capture {:.2f}% of the data\".format(toKeep,totalVar*100))\n",
    "\n",
    "    outData = PCA(n_components = toKeep).fit_transform(data)\n",
    "    outData = pd.DataFrame(data=outData)\n",
    "    print(\"{} -> {}\".format(data.shape,outData.shape))\n",
    "    \n",
    "    return outData"
   ]
  },
  {
   "cell_type": "markdown",
   "metadata": {},
   "source": [
    "Popular data will be seperated from raw data. As regression will be used to predict popular chart rankings, all models will be run on popular data only. Datasets used will be all popular data, and the 5 genre breakdowns.\n",
    "\n",
    "The following data variants will be created per dataset:\n",
    "1. NOCOR\n",
    "   - Dropping highly correlated variables\n",
    "2. NODUR\n",
    "   - Dropping duration\n",
    "     - *Duration was found to be overly valued during classification, but intution says it should not be particularly relevent to a songs popularity. Dropping to observe differences*\n",
    "3. RECENT\n",
    "  - Subset of only most recent 3 years of data\n",
    "    - *Used to see if stronger trends emerge when looking at only recent data. Assumption here is that song trends change somewhat frequently and past year data may throw off results when grouped together*\n",
    "4. PCA\n",
    "  - PCA performed on continuous variables, along with dummy variables unchanged"
   ]
  },
  {
   "cell_type": "code",
   "execution_count": 4,
   "metadata": {},
   "outputs": [
    {
     "ename": "NameError",
     "evalue": "name 'popData_raw' is not defined",
     "output_type": "error",
     "traceback": [
      "\u001b[0;31m---------------------------------------------------------------------------\u001b[0m",
      "\u001b[0;31mNameError\u001b[0m                                 Traceback (most recent call last)",
      "\u001b[0;32m<ipython-input-4-eb1d9f0cf8f6>\u001b[0m in \u001b[0;36m<module>\u001b[0;34m\u001b[0m\n\u001b[1;32m      8\u001b[0m \u001b[0mpopData\u001b[0m\u001b[0;34m[\u001b[0m\u001b[0;34m'raw'\u001b[0m\u001b[0;34m]\u001b[0m \u001b[0;34m=\u001b[0m \u001b[0mrawData\u001b[0m\u001b[0;34m[\u001b[0m\u001b[0mrawData\u001b[0m\u001b[0;34m.\u001b[0m\u001b[0mpopular\u001b[0m \u001b[0;34m==\u001b[0m \u001b[0;36m1\u001b[0m\u001b[0;34m]\u001b[0m\u001b[0;34m.\u001b[0m\u001b[0mdrop\u001b[0m\u001b[0;34m(\u001b[0m\u001b[0;34m'popular'\u001b[0m\u001b[0;34m,\u001b[0m \u001b[0maxis\u001b[0m\u001b[0;34m=\u001b[0m\u001b[0;36m1\u001b[0m\u001b[0;34m)\u001b[0m\u001b[0;34m\u001b[0m\u001b[0;34m\u001b[0m\u001b[0m\n\u001b[1;32m      9\u001b[0m \u001b[0mpopData\u001b[0m\u001b[0;34m[\u001b[0m\u001b[0;34m'all_target'\u001b[0m\u001b[0;34m]\u001b[0m \u001b[0;34m=\u001b[0m \u001b[0mpopData\u001b[0m\u001b[0;34m[\u001b[0m\u001b[0;34m'raw'\u001b[0m\u001b[0;34m]\u001b[0m\u001b[0;34m.\u001b[0m\u001b[0mchartrank\u001b[0m\u001b[0;34m\u001b[0m\u001b[0;34m\u001b[0m\u001b[0m\n\u001b[0;32m---> 10\u001b[0;31m \u001b[0mpopData\u001b[0m\u001b[0;34m[\u001b[0m\u001b[0;34m'all'\u001b[0m\u001b[0;34m]\u001b[0m \u001b[0;34m=\u001b[0m \u001b[0mpopData_raw\u001b[0m\u001b[0;34m.\u001b[0m\u001b[0mdrop\u001b[0m\u001b[0;34m(\u001b[0m\u001b[0;34m'chartrank'\u001b[0m\u001b[0;34m,\u001b[0m\u001b[0maxis\u001b[0m\u001b[0;34m=\u001b[0m\u001b[0;36m1\u001b[0m\u001b[0;34m)\u001b[0m\u001b[0;34m\u001b[0m\u001b[0;34m\u001b[0m\u001b[0m\n\u001b[0m\u001b[1;32m     11\u001b[0m \u001b[0mpopData\u001b[0m\u001b[0;34m[\u001b[0m\u001b[0;34m'all'\u001b[0m\u001b[0;34m]\u001b[0m \u001b[0;34m=\u001b[0m \u001b[0mpd\u001b[0m\u001b[0;34m.\u001b[0m\u001b[0mget_dummies\u001b[0m\u001b[0;34m(\u001b[0m\u001b[0mpopData\u001b[0m\u001b[0;34m[\u001b[0m\u001b[0;34m'all'\u001b[0m\u001b[0;34m]\u001b[0m\u001b[0;34m,\u001b[0m \u001b[0mcolumns\u001b[0m\u001b[0;34m=\u001b[0m\u001b[0;34m[\u001b[0m\u001b[0;34m'genre'\u001b[0m\u001b[0;34m]\u001b[0m\u001b[0;34m)\u001b[0m\u001b[0;34m\u001b[0m\u001b[0;34m\u001b[0m\u001b[0m\n",
      "\u001b[0;31mNameError\u001b[0m: name 'popData_raw' is not defined"
     ]
    }
   ],
   "source": [
    "import pandas as pd\n",
    "# Initial data import\n",
    "rawData = pd.read_csv(\"./data/rawData_final.csv\")\n",
    "\n",
    "popData = {}\n",
    "\n",
    "# Split popular data from raw and seperate chartrank (target)\n",
    "popData['raw'] = rawData[rawData.popular == 1].drop('popular', axis=1)\n",
    "popData['all_target'] = popData['raw'].chartrank\n",
    "popData['all'] = popData_raw.drop('chartrank',axis=1)\n",
    "popData['all'] = pd.get_dummies(popData['all'], columns=['genre'])"
   ]
  },
  {
   "cell_type": "markdown",
   "metadata": {},
   "source": [
    "Pull 3 most recent years: 2018, 2019, 2020"
   ]
  },
  {
   "cell_type": "code",
   "execution_count": null,
   "metadata": {},
   "outputs": [],
   "source": [
    "recentYear = 2018\n",
    "popData['recent'] = popData['all'][popData['all'].year >= recentYear]\n",
    "popData['recent'] = pd.get_dummies(popData['recent'], columns=['year'])\n",
    "popData['recent_target'] = popData['all_target'][popData['recent'].index]"
   ]
  },
  {
   "cell_type": "markdown",
   "metadata": {},
   "source": [
    "Get dummy vars for years"
   ]
  },
  {
   "cell_type": "code",
   "execution_count": null,
   "metadata": {},
   "outputs": [],
   "source": [
    "popData['all'] = pd.get_dummies(popData['all'], columns=['year'])"
   ]
  },
  {
   "cell_type": "markdown",
   "metadata": {},
   "source": [
    "Drop correlated vars\n",
    "### <font color='red'>Going to be calculated using grid search after model grid search done on corresponding 'all' data - using selectKBest from sklearn - different score function depending on classificition vs regression vs clustering</font>"
   ]
  },
  {
   "cell_type": "code",
   "execution_count": null,
   "metadata": {},
   "outputs": [],
   "source": [
    "selectBestK = FS.SelectKBest(score_func=f_regression, k=k) # k is gridsearch func, f_regression for regression scoring\n",
    "selectBestK.fit(popData['all'],popData['all_target'])"
   ]
  },
  {
   "cell_type": "markdown",
   "metadata": {},
   "source": [
    "Drop duration"
   ]
  },
  {
   "cell_type": "code",
   "execution_count": null,
   "metadata": {},
   "outputs": [],
   "source": [
    "popData['nodur'] = popData['all'].drop('duration_ms',axis=1)"
   ]
  },
  {
   "cell_type": "markdown",
   "metadata": {},
   "source": [
    "PCA on continuous, with original dummies"
   ]
  },
  {
   "cell_type": "code",
   "execution_count": null,
   "metadata": {},
   "outputs": [],
   "source": [
    "dummies = ['time_signature','explicit','key','mode','year','genre']\n",
    "continuousVars = [x for x in popData['all'].columns]\n",
    "\n",
    "for dummy in dummies:\n",
    "    continuousVars = [x for x in continuousVars if dummy not in x]\n",
    "    \n",
    "print(\"Continuous variables:\")\n",
    "for var in continuousVars:\n",
    "    print(\"  \",var)\n",
    "print()\n",
    "    \n",
    "dummyVars = [x for x in popData['all'].columns if x not in continuousVars]\n",
    "\n",
    "print('-------Popular PCA-------')\n",
    "popData['pca'] = PCATransform(popData['all'][continuousVars])\n",
    "popData['pca'] = pd.concat([popData['pca'], popData['all'][dummyVars].reset_index(drop=True)], axis=1)\n",
    "print()\n",
    "popData['pca'].info()"
   ]
  },
  {
   "cell_type": "markdown",
   "metadata": {},
   "source": [
    "Split by genre, create variants per"
   ]
  },
  {
   "cell_type": "code",
   "execution_count": null,
   "metadata": {},
   "outputs": [],
   "source": [
    "# Genre split\n",
    "genres = np.unique(popData_raw.genre.to_numpy())\n",
    "\n",
    "popGenre = {}\n",
    "for genre in genres:\n",
    "    raw = popData['raw'][popData['raw'].genre == genre]\n",
    "    target = raw.chartrank\n",
    "    gAll = raw.drop(['genre','chartrank'],axis=1)\n",
    "    \n",
    "    # Recent 3 years\n",
    "    recent = gAll[gAll.year >= recentYear]\n",
    "    recent = pd.get_dummies(recent, columns=['year'])\n",
    "    recent_target = target[recent.index]\n",
    "    \n",
    "    # Dummy year\n",
    "    gAll = pd.get_dummies(gAll, columns=['year'])\n",
    "    \n",
    "    # Drop correlated\n",
    "    nocor = gAll.drop(correlatedVars,axis=1)\n",
    "    \n",
    "    # Drop duration\n",
    "    nodur = gAll.drop('duration_ms',axis=1)\n",
    "    \n",
    "    dummyVars = [x for x in dummyVars if x in gAll.columns]\n",
    "    \n",
    "    # PCA\n",
    "    print('-------{} PCA-------'.format(genre))\n",
    "    pca = PCATransform(gAll[continuousVars])\n",
    "    pca = pd.concat([pca, gAll[dummyVars].reset_index(drop=True)], axis=1)\n",
    "    print()\n",
    "    \n",
    "    popGenre[genre] = {\"all\":gAll,\"all_target\":target,\"recent\":recent,\"recent_target\":recent_target,\"nocor\":nocor,\"nodur\":nodur,\"pca\":pca}"
   ]
  }
 ],
 "metadata": {
  "kernelspec": {
   "display_name": "Python 3",
   "language": "python",
   "name": "python3"
  },
  "language_info": {
   "codemirror_mode": {
    "name": "ipython",
    "version": 3
   },
   "file_extension": ".py",
   "mimetype": "text/x-python",
   "name": "python",
   "nbconvert_exporter": "python",
   "pygments_lexer": "ipython3",
   "version": "3.8.5"
  }
 },
 "nbformat": 4,
 "nbformat_minor": 4
}
