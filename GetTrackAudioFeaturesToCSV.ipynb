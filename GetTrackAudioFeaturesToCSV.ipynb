{
 "cells": [
  {
   "cell_type": "markdown",
   "metadata": {},
   "source": [
    "## Collect audio features per track per genre per year from Spotify API\n",
    "We use the spotipy library to connect to Spotify's API and retrieve 1000 tracks per genre per year for all tracks."
   ]
  },
  {
   "cell_type": "code",
   "execution_count": 1,
   "metadata": {},
   "outputs": [],
   "source": [
    "import pandas as pd\n",
    "import numpy as np\n",
    "import spotipy\n",
    "from spotipy.oauth2 import SpotifyClientCredentials"
   ]
  },
  {
   "cell_type": "markdown",
   "metadata": {},
   "source": [
    "Class that takes in as parameters a genre, date range (in years), and number of tracks per genre."
   ]
  },
  {
   "cell_type": "code",
   "execution_count": 2,
   "metadata": {},
   "outputs": [],
   "source": [
    "class SpotifyAudioFeatures:\n",
    "    def __init__(self, genre, years, n_tracks):\n",
    "        self.genre = genre\n",
    "        self.years = years\n",
    "        self.sp = spotipy.Spotify(auth_manager=SpotifyClientCredentials(client_id=\"207ebcd660fa4fedbbcc7a351776736b\",\n",
    "                                                           client_secret=\"6a71978c6ed34608a10b1525d97c3fdb\"))\n",
    "        self.n_tracks = n_tracks # number of tracks we want to get per year. Must be a multiple of 50.\n",
    "\n",
    "    \n",
    "    def _get_tracks(self, genre, year):\n",
    "        \"\"\"\n",
    "            Get n tracks for a single genre in a single year.\n",
    "            n must be a multiple of 50.\n",
    "        \"\"\"\n",
    "        tracks = []\n",
    "        query = f'year:{year} genre:{genre}'\n",
    "        offset = 0\n",
    "        for i in range(0, self.n_tracks, 50):\n",
    "            offset = i\n",
    "            # results for tracks in the genre in a year\n",
    "            results = self.sp.search(q=query, type='track', market='US', offset=offset, limit=50)\n",
    "            for item in results['tracks']['items']:\n",
    "                tracks.append(item)        \n",
    "        return tracks\n",
    "    \n",
    "    def _get_tracks_for_x_years(self, year_range, genre):\n",
    "        # Get n tracks for a range of years per genre\n",
    "        all_tracks = []\n",
    "        for year in year_range:\n",
    "            search_results = self._get_tracks(genre, year)\n",
    "            df = pd.DataFrame(search_results)\n",
    "            df[\"year\"] = year\n",
    "            all_tracks.append(df)\n",
    "        return all_tracks\n",
    "    \n",
    "    def _get_search_table_indexed_by_uri(self, table):\n",
    "        search_table_by_ids = pd.DataFrame(table, copy=True)\n",
    "        search_table_by_ids = search_table_by_ids.set_index('uri')\n",
    "        search_table_by_ids = search_table_by_ids.drop_duplicates(subset=['id'])\n",
    "#         print(\"Search Table indexed by id head:\")\n",
    "#         display(search_table_by_ids.head())\n",
    "        return search_table_by_ids\n",
    "    \n",
    "    def _get_track_ids(self, table):\n",
    "        # Get list of track ids\n",
    "        return table.index\n",
    "    \n",
    "    def _get_audio_features(self, ids, table):\n",
    "        track_afs = []\n",
    "        counter = 0\n",
    "        for i in ids:\n",
    "            counter += 1\n",
    "            if counter %100 == 0:\n",
    "                print(\"Track \", counter)\n",
    "            result = self.sp.audio_features(tracks=i)\n",
    "            r = pd.DataFrame(result)\n",
    "            # Add explicit, popularity, & name from d3 table to audio_features table\n",
    "            try:\n",
    "                row = pd.Series(table.loc[i], copy=True)\n",
    "            except Exception:\n",
    "                print(\"ID: \", i)\n",
    "                print(Exception)\n",
    "                continue\n",
    "            r['name'] = row['name']\n",
    "            r['explicit'] = row['explicit']\n",
    "            r['popularity'] = row['popularity']\n",
    "            r['year'] = row['year']\n",
    "            r['release_date'] = row['album']['release_date']\n",
    "            track_afs.append(r)\n",
    "        # Returns a list of DataFrames\n",
    "        return track_afs\n",
    "    \n",
    "    def _get_audio_features_dfs(self, track_ids):\n",
    "        # Spotify has a max of 500 calls for audio_features.\n",
    "        # Need to loop through track id's incrementally to get audio features for all tracks.\n",
    "        counter = 0\n",
    "        # A list of lists of DataFrames\n",
    "        track_ids_split = [track_ids[i:i + 500] for i in range(0, len(track_ids), 500)]\n",
    "        print(\"Track IDs split length (500 ids per split): \", len(track_ids_split))\n",
    "\n",
    "        audio_features_dfs = []\n",
    "        for tid in track_ids_split:\n",
    "            try:\n",
    "                af_dfs = self._get_audio_features(tid, self.search_table_by_ids)\n",
    "                audio_features_dfs.append(af_dfs)\n",
    "                print(\"Done with loop \", counter)\n",
    "                counter += 1\n",
    "            except:\n",
    "                pass\n",
    "        \n",
    "        # flatten audio_features_dfs (array of arrays of DataFrames) to one array of dataframes\n",
    "        self.afs = [item for sublist in audio_features_dfs for item in sublist]\n",
    "        audio_features_dfs = pd.concat(self.afs)\n",
    "        audio_features_dfs['genre'] = self.genre\n",
    "\n",
    "        # Returns 1 DataFrame\n",
    "        return audio_features_dfs\n",
    "    \n",
    "    def _export_to_csv(self, table):\n",
    "        filename = f'./{self.genre}_audio_features'\n",
    "        table.to_csv(filename)\n",
    "        print(f'\\nEXPORTED {filename}.csv')\n",
    "    \n",
    "    \n",
    "    def main(self):\n",
    "        tracks_df = self._get_tracks_for_x_years(self.years, self.genre)\n",
    "        d3 = pd.concat(tracks_df)\n",
    "        print(\"Tracks returned shape: \", d3.shape)\n",
    "        \n",
    "        self.search_table_by_ids = self._get_search_table_indexed_by_uri(d3)\n",
    "        track_ids = self._get_track_ids(self.search_table_by_ids)\n",
    "        print(\"Length of track ids: \", len(track_ids))\n",
    "        \n",
    "        # save Audio Feature DataFrames for later obervation (so we don't have to run this each time)\n",
    "        self.audio_features_dfs = self._get_audio_features_dfs(track_ids)\n",
    "        print(\"Audio Features DataFrame shape: \", self.audio_features_dfs.shape)\n",
    "        \n",
    "        # export resulting table to csv\n",
    "        self._export_to_csv(self.audio_features_dfs)\n",
    "        \n",
    "        "
   ]
  },
  {
   "cell_type": "code",
   "execution_count": 3,
   "metadata": {},
   "outputs": [],
   "source": [
    "genres = ['country', 'jazz', 'latin', 'pop', 'r&b']\n",
    "timeframe = np.arange(2002, 2021)\n",
    "n_tracks = 200"
   ]
  },
  {
   "cell_type": "markdown",
   "metadata": {},
   "source": [
    "Example of a small sample size:"
   ]
  },
  {
   "cell_type": "code",
   "execution_count": null,
   "metadata": {},
   "outputs": [],
   "source": [
    "test_years = np.arange(2018, 2021)\n",
    "SAF = SpotifyAudioFeatures(genre=genres[0], years=test_years, n_tracks=100)"
   ]
  },
  {
   "cell_type": "code",
   "execution_count": null,
   "metadata": {},
   "outputs": [],
   "source": [
    "SAF.main()"
   ]
  },
  {
   "cell_type": "code",
   "execution_count": null,
   "metadata": {},
   "outputs": [],
   "source": [
    "SAF.afs[0]"
   ]
  },
  {
   "cell_type": "code",
   "execution_count": null,
   "metadata": {},
   "outputs": [],
   "source": [
    "SAF.audio_features_dfs.head()"
   ]
  },
  {
   "cell_type": "code",
   "execution_count": null,
   "metadata": {},
   "outputs": [],
   "source": [
    "SAF.audio_features_dfs.columns"
   ]
  },
  {
   "cell_type": "code",
   "execution_count": null,
   "metadata": {},
   "outputs": [],
   "source": [
    "import time # sleep for a seconds between requests\n",
    "seconds = 1\n",
    "\n",
    "for genre in genres:\n",
    "    SAF = SpotifyAudioFeatures(genre=genre, years=timeframe, n_tracks=n_tracks)\n",
    "    SAF.main()\n",
    "    # Reached MAX tries halfway through genres. \n",
    "    # Need a break before trying again\n",
    "    time.sleep(seconds)"
   ]
  },
  {
   "cell_type": "markdown",
   "metadata": {},
   "source": [
    "Country genre"
   ]
  },
  {
   "cell_type": "code",
   "execution_count": 4,
   "metadata": {},
   "outputs": [
    {
     "name": "stdout",
     "output_type": "stream",
     "text": [
      "Tracks returned shape:  (3800, 18)\n",
      "Length of track ids:  3800\n",
      "Track IDs split length (500 ids per split):  8\n",
      "Track  100\n",
      "Track  200\n",
      "Track  300\n",
      "Track  400\n",
      "Track  500\n",
      "Done with loop  0\n",
      "Track  100\n",
      "Track  200\n",
      "Track  300\n",
      "Track  400\n",
      "Track  500\n",
      "Done with loop  1\n",
      "Track  100\n",
      "Track  200\n",
      "Track  300\n",
      "Track  400\n",
      "Track  500\n",
      "Done with loop  2\n",
      "Track  100\n",
      "Track  200\n",
      "Track  300\n",
      "Track  400\n",
      "Track  500\n",
      "Done with loop  3\n",
      "Track  100\n",
      "Track  200\n",
      "Track  300\n",
      "Track  400\n",
      "Track  500\n",
      "Done with loop  4\n",
      "Track  100\n",
      "Track  200\n",
      "Track  300\n",
      "Track  400\n",
      "Track  500\n",
      "Done with loop  5\n",
      "Track  100\n",
      "Track  200\n",
      "Track  300\n",
      "Track  400\n",
      "Track  500\n",
      "Done with loop  6\n",
      "Track  100\n",
      "Track  200\n",
      "Track  300\n",
      "Done with loop  7\n",
      "Audio Features DataFrame shape:  (3800, 24)\n",
      "\n",
      "EXPORTED ./country_audio_features.csv\n"
     ]
    }
   ],
   "source": [
    "SAF = SpotifyAudioFeatures(genre=genres[0], years=timeframe, n_tracks=n_tracks)\n",
    "SAF.main()"
   ]
  },
  {
   "cell_type": "markdown",
   "metadata": {},
   "source": [
    "Jazz"
   ]
  },
  {
   "cell_type": "code",
   "execution_count": 5,
   "metadata": {},
   "outputs": [
    {
     "name": "stdout",
     "output_type": "stream",
     "text": [
      "Tracks returned shape:  (3762, 18)\n",
      "Length of track ids:  3694\n",
      "Track IDs split length (500 ids per split):  8\n",
      "Track  100\n",
      "Track  200\n",
      "Track  300\n",
      "Track  400\n",
      "Track  500\n",
      "Done with loop  0\n",
      "Track  100\n",
      "Track  200\n",
      "Track  300\n",
      "Track  400\n",
      "Track  500\n",
      "Done with loop  1\n",
      "Track  100\n",
      "Track  200\n",
      "Track  300\n",
      "Track  400\n",
      "Track  500\n",
      "Done with loop  2\n",
      "Track  100\n",
      "Track  200\n",
      "Track  300\n",
      "Track  400\n",
      "Track  500\n",
      "Done with loop  3\n",
      "Track  100\n",
      "Track  200\n",
      "Track  300\n",
      "Track  400\n",
      "Track  500\n",
      "Done with loop  4\n",
      "Track  100\n",
      "Track  200\n",
      "Track  300\n",
      "Track  400\n",
      "Track  500\n",
      "Done with loop  5\n",
      "Track  100\n",
      "Track  200\n",
      "Track  300\n",
      "Track  400\n",
      "Track  500\n",
      "Done with loop  6\n",
      "Track  100\n",
      "Done with loop  7\n",
      "Audio Features DataFrame shape:  (3694, 24)\n",
      "\n",
      "EXPORTED ./jazz_audio_features.csv\n"
     ]
    }
   ],
   "source": [
    "SAF = SpotifyAudioFeatures(genre=genres[1], years=timeframe, n_tracks=n_tracks)\n",
    "SAF.main()"
   ]
  },
  {
   "cell_type": "markdown",
   "metadata": {},
   "source": [
    "Latin"
   ]
  },
  {
   "cell_type": "code",
   "execution_count": 6,
   "metadata": {},
   "outputs": [
    {
     "name": "stdout",
     "output_type": "stream",
     "text": [
      "Tracks returned shape:  (3800, 18)\n",
      "Length of track ids:  3800\n",
      "Track IDs split length (500 ids per split):  8\n",
      "Track  100\n",
      "Track  200\n",
      "Track  300\n",
      "Track  400\n",
      "Track  500\n",
      "Done with loop  0\n",
      "Track  100\n",
      "Track  200\n",
      "Track  300\n",
      "Track  400\n",
      "Track  500\n",
      "Done with loop  1\n",
      "Track  100\n",
      "Track  200\n",
      "Track  300\n",
      "Track  400\n",
      "Track  500\n",
      "Done with loop  2\n",
      "Track  100\n",
      "Track  200\n",
      "Track  300\n",
      "Track  400\n",
      "Track  500\n",
      "Done with loop  3\n",
      "Track  100\n",
      "Track  200\n",
      "Track  300\n",
      "Track  400\n",
      "Track  500\n",
      "Done with loop  4\n",
      "Track  100\n",
      "Track  200\n",
      "Track  300\n",
      "Track  400\n",
      "Track  500\n",
      "Done with loop  5\n",
      "Track  100\n",
      "Track  200\n",
      "Track  300\n",
      "Track  400\n",
      "Track  500\n",
      "Done with loop  6\n",
      "Track  100\n",
      "Track  200\n",
      "Track  300\n",
      "Done with loop  7\n",
      "Audio Features DataFrame shape:  (3800, 24)\n",
      "\n",
      "EXPORTED ./latin_audio_features.csv\n"
     ]
    }
   ],
   "source": [
    "SAF = SpotifyAudioFeatures(genre=genres[2], years=timeframe, n_tracks=n_tracks)\n",
    "SAF.main()"
   ]
  },
  {
   "cell_type": "markdown",
   "metadata": {},
   "source": [
    "Pop"
   ]
  },
  {
   "cell_type": "code",
   "execution_count": 7,
   "metadata": {},
   "outputs": [
    {
     "name": "stdout",
     "output_type": "stream",
     "text": [
      "Tracks returned shape:  (3800, 18)\n",
      "Length of track ids:  3749\n",
      "Track IDs split length (500 ids per split):  8\n",
      "Track  100\n",
      "Track  200\n",
      "Track  300\n",
      "Track  400\n",
      "Track  500\n",
      "Done with loop  0\n",
      "Track  100\n",
      "Track  200\n",
      "Track  300\n",
      "Track  400\n",
      "Track  500\n",
      "Done with loop  1\n",
      "Track  100\n",
      "Track  200\n",
      "Track  300\n",
      "Track  400\n",
      "Track  500\n",
      "Done with loop  2\n",
      "Track  100\n",
      "Track  200\n",
      "Track  300\n",
      "Track  400\n",
      "Track  500\n",
      "Done with loop  3\n",
      "Track  100\n",
      "Track  200\n",
      "Track  300\n",
      "Track  400\n",
      "Track  500\n",
      "Done with loop  4\n",
      "Track  100\n",
      "Track  200\n",
      "Track  300\n",
      "Track  400\n",
      "Track  500\n",
      "Done with loop  5\n",
      "Track  100\n",
      "Track  200\n",
      "Track  300\n",
      "Track  400\n",
      "Track  500\n",
      "Done with loop  6\n",
      "Track  100\n",
      "Track  200\n",
      "Done with loop  7\n",
      "Audio Features DataFrame shape:  (3749, 24)\n",
      "\n",
      "EXPORTED ./pop_audio_features.csv\n"
     ]
    }
   ],
   "source": [
    "SAF = SpotifyAudioFeatures(genre=genres[3], years=timeframe, n_tracks=n_tracks)\n",
    "SAF.main()"
   ]
  },
  {
   "cell_type": "markdown",
   "metadata": {},
   "source": [
    "R&B"
   ]
  },
  {
   "cell_type": "code",
   "execution_count": 8,
   "metadata": {},
   "outputs": [
    {
     "name": "stdout",
     "output_type": "stream",
     "text": [
      "Tracks returned shape:  (3800, 18)\n",
      "Length of track ids:  3796\n",
      "Track IDs split length (500 ids per split):  8\n",
      "Track  100\n",
      "Track  200\n",
      "Track  300\n",
      "Track  400\n",
      "Track  500\n",
      "Done with loop  0\n",
      "Track  100\n",
      "Track  200\n",
      "Track  300\n",
      "Track  400\n",
      "Track  500\n",
      "Done with loop  1\n",
      "Track  100\n",
      "Track  200\n",
      "Track  300\n",
      "Track  400\n",
      "Track  500\n",
      "Done with loop  2\n",
      "Track  100\n",
      "Track  200\n",
      "Track  300\n",
      "Track  400\n",
      "Track  500\n",
      "Done with loop  3\n",
      "Track  100\n",
      "Track  200\n",
      "Track  300\n",
      "Track  400\n",
      "Track  500\n",
      "Done with loop  4\n",
      "Track  100\n",
      "Track  200\n",
      "Track  300\n",
      "Track  400\n",
      "Track  500\n",
      "Done with loop  5\n",
      "Track  100\n",
      "Track  200\n",
      "Track  300\n",
      "Track  400\n",
      "Track  500\n",
      "Done with loop  6\n",
      "Track  100\n",
      "Track  200\n",
      "Done with loop  7\n",
      "Audio Features DataFrame shape:  (3796, 24)\n",
      "\n",
      "EXPORTED ./r&b_audio_features.csv\n"
     ]
    }
   ],
   "source": [
    "SAF = SpotifyAudioFeatures(genre=genres[4], years=timeframe, n_tracks=n_tracks)\n",
    "SAF.main()"
   ]
  },
  {
   "cell_type": "code",
   "execution_count": null,
   "metadata": {},
   "outputs": [],
   "source": []
  }
 ],
 "metadata": {
  "kernelspec": {
   "display_name": "Python 3",
   "language": "python",
   "name": "python3"
  },
  "language_info": {
   "codemirror_mode": {
    "name": "ipython",
    "version": 3
   },
   "file_extension": ".py",
   "mimetype": "text/x-python",
   "name": "python",
   "nbconvert_exporter": "python",
   "pygments_lexer": "ipython3",
   "version": "3.8.5"
  }
 },
 "nbformat": 4,
 "nbformat_minor": 4
}
